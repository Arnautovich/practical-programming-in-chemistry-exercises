{
 "cells": [
  {
   "cell_type": "markdown",
   "metadata": {},
   "source": [
    "Week 2 : Introduction to Jupyter Notebooks and Python basics.\n",
    "\n",
    "In Jupyter notebooks, you execute code by pressing a run button. To do this, hover over a block of code then press the 'play' button that appears on the left.\n",
    "\n",
    "Run the code below."
   ]
  },
  {
   "cell_type": "code",
   "execution_count": 1,
   "metadata": {},
   "outputs": [
    {
     "name": "stdout",
     "output_type": "stream",
     "text": [
      "Hello world\n"
     ]
    }
   ],
   "source": [
    "print('Hello world')"
   ]
  },
  {
   "cell_type": "markdown",
   "metadata": {},
   "source": [
    "Q1a. \n",
    "\n",
    "In the class, you learned that any variable in python has a Type. The type determines how the variable is stored in your computers memory and what operations you can perform.\n",
    "\n",
    "There is a person called 'John' who is 25 years old. This is represented in the name and age variables. Try out different ways of adding these together via code so you get the output 'John25'. Assign it to a variable called 'output'"
   ]
  },
  {
   "cell_type": "code",
   "execution_count": 4,
   "metadata": {},
   "outputs": [],
   "source": [
    "name = 'John'\n",
    "age = 25\n",
    "\n",
    "### Your code here\n",
    "output = ...\n",
    "###\n",
    "\n",
    "assert output == 'John25'"
   ]
  },
  {
   "cell_type": "markdown",
   "metadata": {},
   "source": [
    "Q1b. \n",
    "\n",
    "Now try declearing a floating point variable and an integer and perform various operations on them. You should find that Python happily interconverts floats and integers"
   ]
  },
  {
   "cell_type": "code",
   "execution_count": null,
   "metadata": {},
   "outputs": [],
   "source": [
    "### Your code here"
   ]
  },
  {
   "cell_type": "markdown",
   "metadata": {},
   "source": [
    "Q1c.\n",
    " \n",
    "Now you have seen that Python has interoperability of certain variable types. \n",
    "\n",
    "Next we will look at boolean variables. These hold a single value, True or False. You can perform operations on them: 'AND', 'OR' and 'NOT'\n",
    "\n",
    "First, evaluate the expressions below by hand, then check yours answers with some python code.\n",
    "\n",
    "a = False\n",
    "b = True\n",
    "c = False\n",
    "\n",
    "1. a and b        = ...\n",
    "2. a or b         = ...\n",
    "3. not a          = ...\n",
    "4. not b and c    = ...\n",
    "5. (a and b) or c = ..."
   ]
  },
  {
   "cell_type": "code",
   "execution_count": null,
   "metadata": {},
   "outputs": [],
   "source": [
    "### in python, you can simply represent the boolean operators by their english language name\n",
    "\n",
    "### Your code here"
   ]
  },
  {
   "cell_type": "markdown",
   "metadata": {},
   "source": [
    "\n",
    "\n",
    "Now we have a concept of booleans we can think about conditional statements. These are useful if you want to be able to execute seperate branches of code, depending on your input. An 'if' statement evaluates a boolean expression and in the case of an expression 'True' allows the code to enter the execution block. Blocks are marked by indents. \n",
    "\n",
    "First, WITHOUT running the code below, determine its output by hand. It is an important skill to be able to understand what a piece of code does without running it."
   ]
  },
  {
   "cell_type": "code",
   "execution_count": 2,
   "metadata": {},
   "outputs": [],
   "source": [
    "a = True\n",
    "b = False\n",
    "c = True\n",
    "\n",
    "if a:\n",
    "    if not c:\n",
    "        print('Answer 1')\n",
    "    elif c and b:\n",
    "        print('Answer 2')\n",
    "    print('Answer 3')\n",
    "else:\n",
    "    print('Answer 4')"
   ]
  },
  {
   "cell_type": "markdown",
   "metadata": {},
   "source": [
    "Q1e. \n",
    "Sometimes we don't want to directly use booleans in our code. For this case, Python allows the evaluation of conditional statements on non-boolean inputs. Try out various combinations of the below variables with the goal of finding out what values for strings and integer data types evaluate to True or False."
   ]
  },
  {
   "cell_type": "code",
   "execution_count": null,
   "metadata": {},
   "outputs": [],
   "source": [
    "a = 'dog'\n",
    "b = 'cat'\n",
    "c = 1\n",
    "d = 0\n",
    "e = ''\n",
    "f = -3\n",
    "d = None\n",
    "\n",
    "### Your code here"
   ]
  },
  {
   "cell_type": "markdown",
   "metadata": {},
   "source": [
    "# Lists\n",
    "\n",
    "Q2a. \n",
    "\n",
    "Now we have covered variables, we will look at ways of grouping said variables. There are called data structures. Formally, a data structure is a collection of data points which are organised using a set of rules.\n",
    "\n",
    "First we will look at the list data structure. A list stores a sequence of ordered variables. The variables can be of any type, and different types of variables are allowed in the same list. The elements in a list are 'indexed' using the set of postive integers starting from zero."
   ]
  },
  {
   "cell_type": "code",
   "execution_count": null,
   "metadata": {},
   "outputs": [],
   "source": [
    "# You can declare a list in python using the following syntax\n",
    "list = [1, 2, 3, 4, 5]\n",
    "\n",
    "\n",
    "\n",
    "# You can put anything you want in a list, including other lists\n",
    "\n",
    "list = [[1, 2, 3], [4, 5, 6], [7, 8, 9]]\n",
    "\n",
    "# You can also declare whacky lists like this\n",
    "\n",
    "list = [1, 'dog', 3.14, [4, 5, 6]]\n",
    "\n",
    "# Note that by creating a list of lists as above, we have effectively declared a matrix. \n",
    "# In CS terms, a matrix is a 2D array.\n"
   ]
  },
  {
   "cell_type": "markdown",
   "metadata": {},
   "source": [
    "Q2b .\n",
    "\n",
    "Although python allows lists with different types of variables, it is good practise to avoid this when writing code as it can lead to code that behaves in an unpredictable manner and that is tricky for other to understand\n",
    "\n",
    "Now its helpful to see some basic list operations."
   ]
  },
  {
   "cell_type": "code",
   "execution_count": null,
   "metadata": {},
   "outputs": [],
   "source": [
    "# to add an element to a list, you can use the append method. This adds the element to the end of the list\n",
    "\n",
    "list = [1, 2, 3]\n",
    "list.append(4)\n",
    "print(list)\n",
    "\n",
    "# to add an element to a list at a specific index, you can use the insert method\n",
    "\n",
    "# Write code to add the number 5 to the list at index 1\n",
    "\n",
    "list.insert(...)\n",
    "print(list)\n",
    "\n",
    "# to remove an element from a list, you can use the remove method\n",
    "# when removing an element from a list, you must specify the value of the element you want to remove\n",
    "\n",
    "# Write code to remove the first element from the list\n",
    "list.remove(...)\n",
    "print(list)\n",
    "\n",
    "# The 'remove' function simply deletes the element, what If you want to retrieve the element and then delete it?\n",
    "# You can use the pop method for this purpose\n",
    "\n",
    "list = [1, 2, 3, 4, 5]\n",
    "\n",
    "# The pop method takes one argument, the index of the element you want to remove\n",
    "# It has interesting behavior when you don't specify an index, in this case it by default removes the last element from the list\n",
    "# Write code to remove the last element from the list, and then remove the second element.\n",
    "\n",
    "a = list.pop(...)\n",
    "print(a)\n",
    "\n",
    "b = list.pop(...)\n",
    "print(b)\n",
    "\n",
    "# you can delete all the elements using the clear method\n",
    "\n",
    "list.clear()\n",
    "print(list)"
   ]
  },
  {
   "cell_type": "markdown",
   "metadata": {},
   "source": [
    "Q2c.\n",
    "\n",
    "Now how about if we have two lists, and we want to combine them into a single list. For this we can just add them using the '+' operator"
   ]
  },
  {
   "cell_type": "code",
   "execution_count": 1,
   "metadata": {},
   "outputs": [
    {
     "name": "stdout",
     "output_type": "stream",
     "text": [
      "[1, 2, 3, 4, 5, 6]\n"
     ]
    }
   ],
   "source": [
    "list1 = [1, 2, 3]\n",
    "list2 = [4, 5, 6]\n",
    "\n",
    "# you can add two lists together using the + operator\n",
    "list3 = list1 + list2\n",
    "print(list3)\n",
    "\n",
    "# Sometimes its useful to find the length of a list. You can do this using the len function\n",
    "\n",
    "print(len(list3))"
   ]
  },
  {
   "cell_type": "markdown",
   "metadata": {},
   "source": [
    "Next lets look at list *slicing*, this is the process of taking a list, and splitting it up into sub lists of arbitary size. Python provides a nice syntax to do this, which is outlined below."
   ]
  },
  {
   "cell_type": "code",
   "execution_count": 8,
   "metadata": {},
   "outputs": [
    {
     "name": "stdout",
     "output_type": "stream",
     "text": [
      "[1, 2, 3]\n"
     ]
    }
   ],
   "source": [
    "# list slicing...\n",
    "\n",
    "# list slicing is a way to get a subset of a list. It is done using the following syntax\n",
    "\n",
    "# list[start:end]\n",
    "\n",
    "# start is the index of the first element you want to include\n",
    "# end is the index of the last element you want to include\n",
    "\n",
    "# for example\n",
    "\n",
    "list = [1, 2, 3, 4, 5, 6, 7, 8, 9]\n",
    "\n",
    "# to get the first 3 elements of the list\n",
    "\n",
    "print(list[0:3])\n",
    "\n",
    "# note that the end index is not included in the result\n"
   ]
  },
  {
   "cell_type": "markdown",
   "metadata": {},
   "source": [
    "Q2d.\n",
    "\n",
    "Now write code to get the last 3 elements of the list"
   ]
  },
  {
   "cell_type": "code",
   "execution_count": null,
   "metadata": {},
   "outputs": [],
   "source": [
    "print(list[...])"
   ]
  },
  {
   "cell_type": "markdown",
   "metadata": {},
   "source": [
    "Q2e.\n",
    "\n",
    "You can also access elements in steps using the following format\n",
    "\n",
    "list[start:end:step]\n",
    "\n",
    "Access every second element of the list, from indexes 0 to 5"
   ]
  },
  {
   "cell_type": "code",
   "execution_count": null,
   "metadata": {},
   "outputs": [],
   "source": [
    "print(list[...])"
   ]
  },
  {
   "cell_type": "markdown",
   "metadata": {},
   "source": [
    "Q2f.\n",
    "\n",
    "Now access every second element of the whole list. Experiment with the input format to find two different ways of doing this\n"
   ]
  },
  {
   "cell_type": "code",
   "execution_count": null,
   "metadata": {},
   "outputs": [],
   "source": [
    "\n",
    "print(list[...])\n",
    "\n",
    "print(list[...])"
   ]
  },
  {
   "cell_type": "markdown",
   "metadata": {},
   "source": [
    "Q2h.\n",
    "\n",
    "As a final excerise on slicing, you will write code for finding the middle index of a list and then use list slicing to split the list into two sublists. Put it inside the function `split_list` and test it using the `test_split` function. When dividing a list in two, think about the edge cases you must consider. Will your code work for both even and odd length's of lists? What about empty lists? Remember that lists in Python have indexes which start from `0`, so the `7th` element has index `6`. Not correctly accounting for this is an extremely common problem in programming and can be tricky to debug."
   ]
  },
  {
   "cell_type": "markdown",
   "metadata": {},
   "source": [
    "First, implement the simplest case, where the list length is an even number and write code for this. Your output should be the middle index, and the two equal lenght halves of the list."
   ]
  },
  {
   "cell_type": "code",
   "execution_count": null,
   "metadata": {},
   "outputs": [],
   "source": [
    "test_even = [1, 2, 3, 4, 5, 6, 7, 8, 9, 10]\n",
    "\n",
    "\n",
    "def split_list(list):\n",
    "    # Write code to split the list into two halves\n",
    "    middle_index = ...\n",
    "    first_half = ...\n",
    "    second_half = ...\n",
    "\n",
    "    return (middle_index, first_half, second_half)\n",
    "\n",
    "\n",
    "def test_split():\n",
    "    assert split_list(test_even) == (5, [1, 2, 3, 4, 5], [6, 7, 8, 9, 10])"
   ]
  },
  {
   "cell_type": "markdown",
   "metadata": {},
   "source": [
    "Now lets move onto the more complex case where a list can also be odd. obvioulsy we will end up with two sub lists of different size, it is common practise to put the extra element in the first list, so that you will have two lists of lengths `6` and `5`"
   ]
  },
  {
   "cell_type": "code",
   "execution_count": null,
   "metadata": {},
   "outputs": [],
   "source": [
    "test_odd = [1, 2, 3, 4, 5, 6, 7, 8, 9, 10, 11]\n",
    "list3 = []\n",
    "\n",
    "def split_list(list):\n",
    "    # Write code to split the list into two halves\n",
    "    middle_index = ...\n",
    "    first_half = ...\n",
    "    second_half = ...\n",
    "\n",
    "    return (middle_index, first_half, second_half)\n",
    "\n",
    "def test_split():\n",
    "    assert split_list(test_odd) == (6, [1, 2, 3, 4, 5, 6], [7, 8, 9, 10, 11])"
   ]
  },
  {
   "cell_type": "markdown",
   "metadata": {},
   "source": [
    "Finally, ensure it works for empty lists too."
   ]
  },
  {
   "cell_type": "code",
   "execution_count": null,
   "metadata": {},
   "outputs": [],
   "source": [
    "test_empty = []\n",
    "\n",
    "def split_list(list):\n",
    "    # Write code to split the list into two halves\n",
    "    middle_index = ...\n",
    "    first_half = ...\n",
    "    second_half = ...\n",
    "\n",
    "    return (middle_index, first_half, second_half)\n",
    "\n",
    "def test_split():\n",
    "    assert split_list(test_even) == (5, [1, 2, 3, 4, 5], [6, 7, 8, 9, 10])\n",
    "    assert split_list(test_odd) == (6, [1, 2, 3, 4, 5, 6], [7, 8, 9, 10, 11])\n",
    "    assert split_list(test_empty) == (0, [], [])"
   ]
  },
  {
   "cell_type": "markdown",
   "metadata": {},
   "source": [
    "# Dictionaries\n",
    "\n",
    "Now we will move onto dictionaries. These store data in a set of key : value pairs. In a dictionary, all the keys must be unique, but many keys can hold the same value. This data structure is extremely useful. For example, we might want to store a set of people, and associated information about them. Generally if you have data which you want to search through frequently, using a dictionary is better than a list"
   ]
  },
  {
   "cell_type": "code",
   "execution_count": null,
   "metadata": {},
   "outputs": [],
   "source": [
    "# We declare a dictionary in python using the following syntax\n",
    "\n",
    "dict = {'Bill' : 25, 'John' : 30, 'Jane' : 22}"
   ]
  },
  {
   "cell_type": "code",
   "execution_count": null,
   "metadata": {},
   "outputs": [],
   "source": [
    "# You can access the value of a key in a dictionary using the following syntax\n",
    "\n",
    "print(dict['Bill'])"
   ]
  },
  {
   "cell_type": "code",
   "execution_count": null,
   "metadata": {},
   "outputs": [],
   "source": [
    "# You can add a new key value pair to a dictionary using the following syntax\n",
    "\n",
    "dict['Jack'] = 27\n"
   ]
  },
  {
   "cell_type": "code",
   "execution_count": null,
   "metadata": {},
   "outputs": [],
   "source": [
    "# Now declare a dictionary of your own, try assigning a new value to an existing key.\n",
    "# Try to access a key which is not present in the dictionary\n",
    "\n",
    "...\n"
   ]
  },
  {
   "cell_type": "code",
   "execution_count": null,
   "metadata": {},
   "outputs": [],
   "source": [
    "# You can delete a key value pair from a dictionary using the del keyword\n",
    "\n",
    "del dict['Bill']"
   ]
  },
  {
   "cell_type": "markdown",
   "metadata": {},
   "source": [
    "Now we will have a look at control flow in code. As in the previous excerise with if and else statements, your task is to work out what ouput the code will give WITHOUT running it. Then check your answer by executing the program. If you get them wrong, try to go through the code step by step and ask double check your assumptions about how each line of code works."
   ]
  },
  {
   "cell_type": "markdown",
   "metadata": {},
   "source": [
    "Q3a."
   ]
  },
  {
   "cell_type": "code",
   "execution_count": 2,
   "metadata": {},
   "outputs": [],
   "source": [
    "numa = 11\n",
    "while numa > 2.5:\n",
    "    numa = numa - 1\n",
    "    print(numa)"
   ]
  },
  {
   "cell_type": "markdown",
   "metadata": {},
   "source": [
    "Q3b."
   ]
  },
  {
   "cell_type": "code",
   "execution_count": 13,
   "metadata": {},
   "outputs": [],
   "source": [
    "numb = 2.5\n",
    "for i in range(0, 10, 2):\n",
    "    pass\n",
    "    print(i/numb)\n"
   ]
  },
  {
   "cell_type": "markdown",
   "metadata": {},
   "source": [
    "Q3c."
   ]
  },
  {
   "cell_type": "code",
   "execution_count": 15,
   "metadata": {},
   "outputs": [],
   "source": [
    "numc = 10.2 \n",
    "while True:\n",
    "    if numc < 6.2:\n",
    "        break\n",
    "    print(numc)\n",
    "    numc -= 1"
   ]
  },
  {
   "cell_type": "markdown",
   "metadata": {},
   "source": [
    "Q3d."
   ]
  },
  {
   "cell_type": "code",
   "execution_count": 7,
   "metadata": {},
   "outputs": [],
   "source": [
    "collected_strings = []\n",
    "\n",
    "for i in range(1, 5):\n",
    "    if i % 2 == 0:  \n",
    "        for j in range(5):\n",
    "            if j == 3:\n",
    "                break\n",
    "                collected_strings.append(str(j))\n",
    "        collected_strings.append(str('F'))\n",
    "    else:  \n",
    "        for j in range(5):\n",
    "            if j == 3:\n",
    "                continue\n",
    "            elif j == 4:\n",
    "                pass\n",
    "            collected_strings.append(str(j))\n",
    "\n",
    "for i in range(3):\n",
    "    if i == 1:\n",
    "        collected_strings.append(\"!\")\n",
    "        continue\n",
    "    collected_strings.append(\"?\")\n",
    "\n",
    "collect_str = \"\".join(collected_strings)\n",
    "print(f'Collected string is {collect_str}')"
   ]
  },
  {
   "cell_type": "markdown",
   "metadata": {},
   "source": [
    "Q3e. \n",
    "\n",
    "The code provided in this question is buggy. Do not execute it. What do you think the programmer intended this code to do? Jot down a table that shows the value of the variables at each iteration. This shoudl give you a clear understand of why the code is buggy. Once you have done so, modify the code such that it is no longer buggy. Note due to the lack of comments indicating what the code is attempting to do, there are several possible answers for this."
   ]
  },
  {
   "cell_type": "code",
   "execution_count": 18,
   "metadata": {},
   "outputs": [],
   "source": [
    "\n",
    "n = 10 \n",
    "i = 10\n",
    "while i > 0:\n",
    "    print(i)\n",
    "    if i % 2 == 0:\n",
    "        i=i/2\n",
    "    else: \n",
    "        i=i+1"
   ]
  },
  {
   "cell_type": "markdown",
   "metadata": {},
   "source": [
    "This should illustrate the importance of code comments. In the same way that a lab book helps you remember your experimental details and results, code comments help you remember what you wanted the code to do when you wrote it."
   ]
  },
  {
   "cell_type": "markdown",
   "metadata": {},
   "source": [
    "Q4 (Optional) \n",
    "\n",
    "This question is not mandatory and the concepts introduced will not be directly assessed in this course. They are however skills that are essential for solving computational problems efficiently and will help you get used to thinking about more complex code.\n",
    "\n",
    "We have introduced list's, loop's and list slicing. These problems will combine them and introduce a new concept called `computational complexity`. In general, the computational complexity of a piece of code describes the amount of resources needed to run it. It is usually measured by estimating or counting the number of elementary operations carried out. For these excerises, the elementary operation will be `comparisions`, ie, checking if a number is less than, equal too or greater than another number. "
   ]
  },
  {
   "cell_type": "markdown",
   "metadata": {},
   "source": [
    "Q4a. \n",
    "\n",
    "Lets first consider how to check if `A` is less than, equal to, or greater than number `B`. Both `A` and `B` are arbitary integers greater than zero. The code provided below will do this, however it contains some redundant code which you should remove"
   ]
  },
  {
   "cell_type": "code",
   "execution_count": null,
   "metadata": {},
   "outputs": [],
   "source": [
    "A = ...\n",
    "B = ...\n",
    "\n",
    "if A < B:\n",
    "    print('A is less than B')\n",
    "elif A > B:\n",
    "    print('A is greater than B')\n",
    "elif A == B:\n",
    "    print('A is equal to B')"
   ]
  },
  {
   "cell_type": "markdown",
   "metadata": {},
   "source": [
    "Q4b. \n",
    "\n",
    "Lets consider the number of comparisons needed to check if the number `target` appears in a very large list of numbers. Below is code for generating a list of random numbers. Write the simplest approach you can think of for solving this problem. Do not use the standard python code of `if target in list:`, instead you should write the all the code manually using loops and `if` statements. Count each comparison your code makes uusing the `comparison_counter` variable. If the target is in the list, add it to the list called `found_targets`. Think about whether it is a good idea to continue searching the list once the target has been found. Test your code by comparing your output to that of the `test_search` function and ensuring that they are the same. Take note of the number of comparisons your code needs, it should less than the length of the list of random numbers.\n",
    "\n",
    "After you have done this, play around with different values for `MAX_SIZE` and `MAX_TGT_VALUE`. What do you observe?"
   ]
  },
  {
   "cell_type": "code",
   "execution_count": 23,
   "metadata": {},
   "outputs": [],
   "source": [
    "def test_function(inp_list, tgts):\n",
    "    found_tgts = []\n",
    "    for tgt in tgts:\n",
    "        if tgt in inp_list:\n",
    "            found_tgts.append(tgt)\n",
    "    return found_tgts"
   ]
  },
  {
   "cell_type": "code",
   "execution_count": 34,
   "metadata": {},
   "outputs": [
    {
     "name": "stdout",
     "output_type": "stream",
     "text": [
      "Your code worked! Average number of comparisons per search = 5847164.0\n"
     ]
    }
   ],
   "source": [
    "import random\n",
    "import time\n",
    "\n",
    "MAX_SIZE = 10000000 # This is the maximum value of the numbers in the list\n",
    "MAX_TGT_VALUE = 10000000 # This is the maximum value of the target numbers\n",
    "LENGTH = 10000000 # This is the length of the list\n",
    "\n",
    "# Here we declare a list of random numbers and a list of random target numbers\n",
    "random_list = [random.randint(0, MAX_SIZE) for i in range(LENGTH)]\n",
    "tgts = [random.randint(0, MAX_TGT_VALUE) for i in range(10)]\n",
    "found_tgts = []\n",
    "\n",
    "comparison_counter = 0\n",
    "# Your code here\n",
    "...\n",
    "\n",
    "# Test your code\n",
    "assert found_tgts == test_function(random_list, tgts)\n",
    "print(f'Your code worked! Average number of comparisons per search = {comparison_counter/len(tgts)}')"
   ]
  },
  {
   "cell_type": "markdown",
   "metadata": {},
   "source": [
    "Q4c. \n",
    "\n",
    "Given your code, think about the following three scenarios. Assume that both the target integer and all values in the list are drawn from the same uniform distribution, bounded between `0` and `LENGTH`\n",
    "\n",
    "1. What is the smallest possible number of comparisons and when will this occur?\n",
    "2. What is the average number of comparisons, with respect to the length of the input list?\n",
    "3. What is the largest possible number of comparisons and when will this occur?"
   ]
  },
  {
   "cell_type": "markdown",
   "metadata": {},
   "source": [
    "## Binary Search\n",
    "\n",
    "For a list of `randomly ordered` numbers, the naive method of going through and checking each element until the target is found is actually the best approach possible. However if we have a very long list, or a list of strings where the comparison operation is costly this approach will take quite some time.\n",
    "\n",
    "To find a faster way of doing this, we must perform a trick such that the problem structure changes...  We take the approach of first sorting the list in any order. For this example, we will sort the list in ascending order. If you were to draw out the list in a line, the lowest valued element would be in the first position and the highest value element in the last position. This introduces a nice property that for all elements, all elements to the left of it have a lower value, and all element to the right have a higher value.\n",
    "\n",
    "Now we have this property, we can search the list exponentially faster. For an example, assume the integer `target` is in the list and we just need to find the *index* it occurs at. First, guess that the `target` element is in the middle of the list, if the `target` is less than the middle element's value, we know for certain it is in the left half. If `target` is greater than the middle element's value, we know it is in the right half. This quite neatly divides the problem in half. To continue the search, we take the half of the list we know `target` is in and just repeat the process.\n",
    "\n",
    "This general technique of repeatedly dividing a problem in two is called binary search. Given we are dividing the problem in two at each step, what is the MAXIMUM number of comparisions needed to find an element in a list? Express your answer in terms of the length of a list. Assuming the length of the list is a power of two, what is the average number of comparisons needed?"
   ]
  },
  {
   "cell_type": "markdown",
   "metadata": {},
   "source": [
    "Q4d.\n",
    "\n",
    "Using the code you previously wrote for dividing a list in two, implement a binary search and count the number of comparisons."
   ]
  },
  {
   "cell_type": "code",
   "execution_count": null,
   "metadata": {},
   "outputs": [],
   "source": [
    "def binary_search(input_list, target):\n",
    "    # Your code here\n",
    "\n",
    "    ...\n",
    "    return found, comparisons"
   ]
  },
  {
   "cell_type": "code",
   "execution_count": null,
   "metadata": {},
   "outputs": [],
   "source": [
    "MAX_SIZE = 10000000 # This is the maximum value of the numbers in the list\n",
    "MAX_TGT_VALUE = 10000000 # This is the maximum value of the target numbers\n",
    "LENGTH = 10000000 # This is the length of the list\n",
    "\n",
    "# Here we declare a list of random numbers and a list of random target numbers\n",
    "random_list = [random.randint(0, MAX_SIZE) for i in range(LENGTH)]\n",
    "tgts = [random.randint(0, MAX_TGT_VALUE) for i in range(10)]\n",
    "found_tgts = []\n",
    "\n",
    "comparison_counter = 0\n",
    "\n",
    "# Iterate through our targets\n",
    "for tgt in tgts:\n",
    "    #Call the binary search function on the list and target\n",
    "    found, comparisons = binary_search(random_list, tgt)\n",
    "    comparison_counter += comparisons\n",
    "    if found:\n",
    "        found_tgts.append(tgt)\n",
    "\n",
    "# Test your code\n",
    "assert found_tgts == test_function(random_list, tgts)\n",
    "print(f'Your code worked! Average number of comparisons per search = {comparison_counter/len(tgts)}')"
   ]
  }
 ],
 "metadata": {
  "kernelspec": {
   "display_name": "Python 3",
   "language": "python",
   "name": "python3"
  },
  "language_info": {
   "codemirror_mode": {
    "name": "ipython",
    "version": 3
   },
   "file_extension": ".py",
   "mimetype": "text/x-python",
   "name": "python",
   "nbconvert_exporter": "python",
   "pygments_lexer": "ipython3",
   "version": "3.10.12"
  },
  "orig_nbformat": 4
 },
 "nbformat": 4,
 "nbformat_minor": 2
}
